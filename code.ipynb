{
 "cells": [
  {
   "cell_type": "code",
   "execution_count": 24,
   "metadata": {},
   "outputs": [],
   "source": [
    "# Load libraries\n",
    "import numpy as np\n",
    "import pandas as pd\n",
    "import imblearn\n",
    "from matplotlib import pyplot as plt\n",
    "from pandas import read_excel\n",
    "from pandas import set_option\n",
    "from pandas.plotting import scatter_matrix\n",
    "from sklearn.preprocessing import StandardScaler\n",
    "from sklearn.model_selection import train_test_split\n",
    "from sklearn.model_selection import KFold\n",
    "from sklearn.model_selection import cross_val_score\n",
    "from sklearn.model_selection import GridSearchCV\n",
    "from sklearn.metrics import classification_report\n",
    "from sklearn.metrics import confusion_matrix\n",
    "from sklearn.metrics import accuracy_score\n",
    "from sklearn.pipeline import Pipeline\n",
    "from sklearn.linear_model import LogisticRegression\n",
    "from sklearn.tree import DecisionTreeClassifier\n",
    "from sklearn.neighbors import KNeighborsClassifier\n",
    "from sklearn.discriminant_analysis import LinearDiscriminantAnalysis\n",
    "from sklearn.naive_bayes import GaussianNB\n",
    "from sklearn.svm import SVC\n",
    "from sklearn.ensemble import AdaBoostClassifier\n",
    "from sklearn.ensemble import GradientBoostingClassifier\n",
    "from sklearn.ensemble import RandomForestClassifier\n",
    "from sklearn.ensemble import ExtraTreesClassifier\n",
    "from sklearn.datasets import make_classification\n",
    "from imblearn.over_sampling import RandomOverSampler\n",
    "from imblearn.under_sampling import RandomUnderSampler\n",
    "from collections import Counter\n"
   ]
  },
  {
   "cell_type": "code",
   "execution_count": 25,
   "metadata": {},
   "outputs": [],
   "source": [
    "#Load dataset\n",
    "url = 'Churn_Modelling.xlsx'\n",
    "dataset = read_excel(url)\n",
    "\n"
   ]
  },
  {
   "cell_type": "code",
   "execution_count": 6,
   "metadata": {},
   "outputs": [
    {
     "name": "stdout",
     "output_type": "stream",
     "text": [
      "(10000, 11)\n"
     ]
    }
   ],
   "source": [
    "# shape\n",
    "print(dataset.shape)"
   ]
  },
  {
   "cell_type": "code",
   "execution_count": 26,
   "metadata": {},
   "outputs": [
    {
     "name": "stdout",
     "output_type": "stream",
     "text": [
      "CreditScore          int64\n",
      "Geography           object\n",
      "Gender              object\n",
      "Age                  int64\n",
      "Tenure               int64\n",
      "Balance            float64\n",
      "NumOfProducts        int64\n",
      "HasCrCard            int64\n",
      "IsActiveMember       int64\n",
      "EstimatedSalary    float64\n",
      "Exited               int64\n",
      "dtype: object\n"
     ]
    }
   ],
   "source": [
    " #types\n",
    "set_option('display.max_rows', 500)\n",
    "print(dataset.dtypes)\n"
   ]
  },
  {
   "cell_type": "code",
   "execution_count": 27,
   "metadata": {},
   "outputs": [
    {
     "name": "stdout",
     "output_type": "stream",
     "text": [
      "    CreditScore Geography  Gender  Age  Tenure    Balance  NumOfProducts  HasCrCard  \\\n",
      "0           619    France  Female   42       2       0.00              1          1   \n",
      "1           608     Spain  Female   41       1   83807.86              1          0   \n",
      "2           502    France  Female   42       8  159660.80              3          1   \n",
      "3           699    France  Female   39       1       0.00              2          0   \n",
      "4           850     Spain  Female   43       2  125510.82              1          1   \n",
      "5           645     Spain    Male   44       8  113755.78              2          1   \n",
      "6           822    France    Male   50       7       0.00              2          1   \n",
      "7           376   Germany  Female   29       4  115046.74              4          1   \n",
      "8           501    France    Male   44       4  142051.07              2          0   \n",
      "9           684    France    Male   27       2  134603.88              1          1   \n",
      "10          528    France    Male   31       6  102016.72              2          0   \n",
      "11          497     Spain    Male   24       3       0.00              2          1   \n",
      "12          476    France  Female   34      10       0.00              2          1   \n",
      "13          549    France  Female   25       5       0.00              2          0   \n",
      "14          635     Spain  Female   35       7       0.00              2          1   \n",
      "15          616   Germany    Male   45       3  143129.41              2          0   \n",
      "16          653   Germany    Male   58       1  132602.88              1          1   \n",
      "17          549     Spain  Female   24       9       0.00              2          1   \n",
      "18          587     Spain    Male   45       6       0.00              1          0   \n",
      "19          726    France  Female   24       6       0.00              2          1   \n",
      "\n",
      "    IsActiveMember  EstimatedSalary  Exited  \n",
      "0                1        101348.88       1  \n",
      "1                1        112542.58       0  \n",
      "2                0        113931.57       1  \n",
      "3                0         93826.63       0  \n",
      "4                1         79084.10       0  \n",
      "5                0        149756.71       1  \n",
      "6                1         10062.80       0  \n",
      "7                0        119346.88       1  \n",
      "8                1         74940.50       0  \n",
      "9                1         71725.73       0  \n",
      "10               0         80181.12       0  \n",
      "11               0         76390.01       0  \n",
      "12               0         26260.98       0  \n",
      "13               0        190857.79       0  \n",
      "14               1         65951.65       0  \n",
      "15               1         64327.26       0  \n",
      "16               0          5097.67       1  \n",
      "17               1         14406.41       0  \n",
      "18               0        158684.81       0  \n",
      "19               1         54724.03       0  \n"
     ]
    }
   ],
   "source": [
    "# head\n",
    "set_option('display.width', 100)\n",
    "print(dataset.head(20))\n"
   ]
  },
  {
   "cell_type": "code",
   "execution_count": 28,
   "metadata": {},
   "outputs": [
    {
     "name": "stdout",
     "output_type": "stream",
     "text": [
      "       CreditScore        Age     Tenure     Balance  NumOfProducts  HasCrCard  IsActiveMember  \\\n",
      "count    10000.000  10000.000  10000.000   10000.000      10000.000  10000.000       10000.000   \n",
      "mean       650.529     38.922      5.013   76485.889          1.530      0.706           0.515   \n",
      "std         96.653     10.488      2.892   62397.405          0.582      0.456           0.500   \n",
      "min        350.000     18.000      0.000       0.000          1.000      0.000           0.000   \n",
      "25%        584.000     32.000      3.000       0.000          1.000      0.000           0.000   \n",
      "50%        652.000     37.000      5.000   97198.540          1.000      1.000           1.000   \n",
      "75%        718.000     44.000      7.000  127644.240          2.000      1.000           1.000   \n",
      "max        850.000     92.000     10.000  250898.090          4.000      1.000           1.000   \n",
      "\n",
      "       EstimatedSalary     Exited  \n",
      "count        10000.000  10000.000  \n",
      "mean        100090.240      0.204  \n",
      "std          57510.493      0.403  \n",
      "min             11.580      0.000  \n",
      "25%          51002.110      0.000  \n",
      "50%         100193.915      0.000  \n",
      "75%         149388.247      0.000  \n",
      "max         199992.480      1.000  \n"
     ]
    }
   ],
   "source": [
    "# descriptions, change precision to 3 places\n",
    "set_option('precision', 3)\n",
    "print(dataset.describe())\n"
   ]
  },
  {
   "cell_type": "code",
   "execution_count": 29,
   "metadata": {},
   "outputs": [],
   "source": [
    "#replace empty value with nan\n",
    "df = dataset.replace(r'^\\s+$', np.nan, regex=True)"
   ]
  },
  {
   "cell_type": "code",
   "execution_count": 11,
   "metadata": {},
   "outputs": [
    {
     "data": {
      "text/plain": [
       "False"
      ]
     },
     "execution_count": 11,
     "metadata": {},
     "output_type": "execute_result"
    }
   ],
   "source": [
    "#check if any value is null in pandas dataframe\n",
    "df.isnull().values.any()"
   ]
  },
  {
   "cell_type": "code",
   "execution_count": 30,
   "metadata": {},
   "outputs": [],
   "source": [
    "df_new=pd.get_dummies(df[['CreditScore','Age','Tenure','Balance','HasCrCard','Geography','Gender','EstimatedSalary','Exited']])\n"
   ]
  },
  {
   "cell_type": "code",
   "execution_count": 31,
   "metadata": {},
   "outputs": [
    {
     "data": {
      "text/html": [
       "<div>\n",
       "<style scoped>\n",
       "    .dataframe tbody tr th:only-of-type {\n",
       "        vertical-align: middle;\n",
       "    }\n",
       "\n",
       "    .dataframe tbody tr th {\n",
       "        vertical-align: top;\n",
       "    }\n",
       "\n",
       "    .dataframe thead th {\n",
       "        text-align: right;\n",
       "    }\n",
       "</style>\n",
       "<table border=\"1\" class=\"dataframe\">\n",
       "  <thead>\n",
       "    <tr style=\"text-align: right;\">\n",
       "      <th></th>\n",
       "      <th>CreditScore</th>\n",
       "      <th>Age</th>\n",
       "      <th>Tenure</th>\n",
       "      <th>Balance</th>\n",
       "      <th>HasCrCard</th>\n",
       "      <th>EstimatedSalary</th>\n",
       "      <th>Exited</th>\n",
       "      <th>Geography_France</th>\n",
       "      <th>Geography_Germany</th>\n",
       "      <th>Geography_Spain</th>\n",
       "      <th>Gender_Female</th>\n",
       "      <th>Gender_Male</th>\n",
       "    </tr>\n",
       "  </thead>\n",
       "  <tbody>\n",
       "    <tr>\n",
       "      <th>0</th>\n",
       "      <td>619</td>\n",
       "      <td>42</td>\n",
       "      <td>2</td>\n",
       "      <td>0.00</td>\n",
       "      <td>1</td>\n",
       "      <td>101348.88</td>\n",
       "      <td>1</td>\n",
       "      <td>1</td>\n",
       "      <td>0</td>\n",
       "      <td>0</td>\n",
       "      <td>1</td>\n",
       "      <td>0</td>\n",
       "    </tr>\n",
       "    <tr>\n",
       "      <th>1</th>\n",
       "      <td>608</td>\n",
       "      <td>41</td>\n",
       "      <td>1</td>\n",
       "      <td>83807.86</td>\n",
       "      <td>0</td>\n",
       "      <td>112542.58</td>\n",
       "      <td>0</td>\n",
       "      <td>0</td>\n",
       "      <td>0</td>\n",
       "      <td>1</td>\n",
       "      <td>1</td>\n",
       "      <td>0</td>\n",
       "    </tr>\n",
       "    <tr>\n",
       "      <th>2</th>\n",
       "      <td>502</td>\n",
       "      <td>42</td>\n",
       "      <td>8</td>\n",
       "      <td>159660.80</td>\n",
       "      <td>1</td>\n",
       "      <td>113931.57</td>\n",
       "      <td>1</td>\n",
       "      <td>1</td>\n",
       "      <td>0</td>\n",
       "      <td>0</td>\n",
       "      <td>1</td>\n",
       "      <td>0</td>\n",
       "    </tr>\n",
       "    <tr>\n",
       "      <th>3</th>\n",
       "      <td>699</td>\n",
       "      <td>39</td>\n",
       "      <td>1</td>\n",
       "      <td>0.00</td>\n",
       "      <td>0</td>\n",
       "      <td>93826.63</td>\n",
       "      <td>0</td>\n",
       "      <td>1</td>\n",
       "      <td>0</td>\n",
       "      <td>0</td>\n",
       "      <td>1</td>\n",
       "      <td>0</td>\n",
       "    </tr>\n",
       "    <tr>\n",
       "      <th>4</th>\n",
       "      <td>850</td>\n",
       "      <td>43</td>\n",
       "      <td>2</td>\n",
       "      <td>125510.82</td>\n",
       "      <td>1</td>\n",
       "      <td>79084.10</td>\n",
       "      <td>0</td>\n",
       "      <td>0</td>\n",
       "      <td>0</td>\n",
       "      <td>1</td>\n",
       "      <td>1</td>\n",
       "      <td>0</td>\n",
       "    </tr>\n",
       "    <tr>\n",
       "      <th>...</th>\n",
       "      <td>...</td>\n",
       "      <td>...</td>\n",
       "      <td>...</td>\n",
       "      <td>...</td>\n",
       "      <td>...</td>\n",
       "      <td>...</td>\n",
       "      <td>...</td>\n",
       "      <td>...</td>\n",
       "      <td>...</td>\n",
       "      <td>...</td>\n",
       "      <td>...</td>\n",
       "      <td>...</td>\n",
       "    </tr>\n",
       "    <tr>\n",
       "      <th>9995</th>\n",
       "      <td>771</td>\n",
       "      <td>39</td>\n",
       "      <td>5</td>\n",
       "      <td>0.00</td>\n",
       "      <td>1</td>\n",
       "      <td>96270.64</td>\n",
       "      <td>0</td>\n",
       "      <td>1</td>\n",
       "      <td>0</td>\n",
       "      <td>0</td>\n",
       "      <td>0</td>\n",
       "      <td>1</td>\n",
       "    </tr>\n",
       "    <tr>\n",
       "      <th>9996</th>\n",
       "      <td>516</td>\n",
       "      <td>35</td>\n",
       "      <td>10</td>\n",
       "      <td>57369.61</td>\n",
       "      <td>1</td>\n",
       "      <td>101699.77</td>\n",
       "      <td>0</td>\n",
       "      <td>1</td>\n",
       "      <td>0</td>\n",
       "      <td>0</td>\n",
       "      <td>0</td>\n",
       "      <td>1</td>\n",
       "    </tr>\n",
       "    <tr>\n",
       "      <th>9997</th>\n",
       "      <td>709</td>\n",
       "      <td>36</td>\n",
       "      <td>7</td>\n",
       "      <td>0.00</td>\n",
       "      <td>0</td>\n",
       "      <td>42085.58</td>\n",
       "      <td>1</td>\n",
       "      <td>1</td>\n",
       "      <td>0</td>\n",
       "      <td>0</td>\n",
       "      <td>1</td>\n",
       "      <td>0</td>\n",
       "    </tr>\n",
       "    <tr>\n",
       "      <th>9998</th>\n",
       "      <td>772</td>\n",
       "      <td>42</td>\n",
       "      <td>3</td>\n",
       "      <td>75075.31</td>\n",
       "      <td>1</td>\n",
       "      <td>92888.52</td>\n",
       "      <td>1</td>\n",
       "      <td>0</td>\n",
       "      <td>1</td>\n",
       "      <td>0</td>\n",
       "      <td>0</td>\n",
       "      <td>1</td>\n",
       "    </tr>\n",
       "    <tr>\n",
       "      <th>9999</th>\n",
       "      <td>792</td>\n",
       "      <td>28</td>\n",
       "      <td>4</td>\n",
       "      <td>130142.79</td>\n",
       "      <td>1</td>\n",
       "      <td>38190.78</td>\n",
       "      <td>0</td>\n",
       "      <td>1</td>\n",
       "      <td>0</td>\n",
       "      <td>0</td>\n",
       "      <td>1</td>\n",
       "      <td>0</td>\n",
       "    </tr>\n",
       "  </tbody>\n",
       "</table>\n",
       "<p>10000 rows × 12 columns</p>\n",
       "</div>"
      ],
      "text/plain": [
       "      CreditScore  Age  Tenure    Balance  HasCrCard  EstimatedSalary  Exited  Geography_France  \\\n",
       "0             619   42       2       0.00          1        101348.88       1                 1   \n",
       "1             608   41       1   83807.86          0        112542.58       0                 0   \n",
       "2             502   42       8  159660.80          1        113931.57       1                 1   \n",
       "3             699   39       1       0.00          0         93826.63       0                 1   \n",
       "4             850   43       2  125510.82          1         79084.10       0                 0   \n",
       "...           ...  ...     ...        ...        ...              ...     ...               ...   \n",
       "9995          771   39       5       0.00          1         96270.64       0                 1   \n",
       "9996          516   35      10   57369.61          1        101699.77       0                 1   \n",
       "9997          709   36       7       0.00          0         42085.58       1                 1   \n",
       "9998          772   42       3   75075.31          1         92888.52       1                 0   \n",
       "9999          792   28       4  130142.79          1         38190.78       0                 1   \n",
       "\n",
       "      Geography_Germany  Geography_Spain  Gender_Female  Gender_Male  \n",
       "0                     0                0              1            0  \n",
       "1                     0                1              1            0  \n",
       "2                     0                0              1            0  \n",
       "3                     0                0              1            0  \n",
       "4                     0                1              1            0  \n",
       "...                 ...              ...            ...          ...  \n",
       "9995                  0                0              0            1  \n",
       "9996                  0                0              0            1  \n",
       "9997                  0                0              1            0  \n",
       "9998                  1                0              0            1  \n",
       "9999                  0                0              1            0  \n",
       "\n",
       "[10000 rows x 12 columns]"
      ]
     },
     "execution_count": 31,
     "metadata": {},
     "output_type": "execute_result"
    }
   ],
   "source": [
    "df_new"
   ]
  },
  {
   "cell_type": "code",
   "execution_count": 32,
   "metadata": {},
   "outputs": [
    {
     "data": {
      "text/plain": [
       "array([[<AxesSubplot:title={'center':'CreditScore'}>,\n",
       "        <AxesSubplot:title={'center':'Age'}>,\n",
       "        <AxesSubplot:title={'center':'Tenure'}>],\n",
       "       [<AxesSubplot:title={'center':'Balance'}>,\n",
       "        <AxesSubplot:title={'center':'HasCrCard'}>,\n",
       "        <AxesSubplot:title={'center':'EstimatedSalary'}>],\n",
       "       [<AxesSubplot:title={'center':'Exited'}>,\n",
       "        <AxesSubplot:title={'center':'Geography_France'}>,\n",
       "        <AxesSubplot:title={'center':'Geography_Germany'}>],\n",
       "       [<AxesSubplot:title={'center':'Geography_Spain'}>,\n",
       "        <AxesSubplot:title={'center':'Gender_Female'}>,\n",
       "        <AxesSubplot:title={'center':'Gender_Male'}>]], dtype=object)"
      ]
     },
     "execution_count": 32,
     "metadata": {},
     "output_type": "execute_result"
    },
    {
     "data": {
      "image/png": "[encoded data removed]",
      "text/plain": [
       "<Figure size 432x288 with 12 Axes>"
      ]
     },
     "metadata": {
      "needs_background": "light"
     },
     "output_type": "display_data"
    }
   ],
   "source": [
    "#histograms\n",
    "df_new.hist(sharex=False, sharey=False, xlabelsize=1, ylabelsize=1)"
   ]
  },
  {
   "cell_type": "code",
   "execution_count": 33,
   "metadata": {},
   "outputs": [
    {
     "data": {
      "image/png": "[encoded data removed]",
      "text/plain": [
       "<Figure size 432x288 with 64 Axes>"
      ]
     },
     "metadata": {
      "needs_background": "light"
     },
     "output_type": "display_data"
    },
    {
     "name": "stdout",
     "output_type": "stream",
     "text": [
      "CreditScore         -0.072\n",
      "Age                  1.011\n",
      "Tenure               0.011\n",
      "Balance             -0.141\n",
      "HasCrCard           -0.902\n",
      "EstimatedSalary      0.002\n",
      "Exited               1.472\n",
      "Geography_France    -0.006\n",
      "Geography_Germany    1.149\n",
      "Geography_Spain      1.169\n",
      "Gender_Female        0.184\n",
      "Gender_Male         -0.184\n",
      "dtype: float64\n"
     ]
    }
   ],
   "source": [
    "#density\n",
    "df_new.plot(kind='density', subplots=True, layout=(8,8), sharex=False, legend=False,\n",
    "fontsize=1)\n",
    "pyplot.show()\n",
    "skew = df_new.skew()\n",
    "print(skew)\n"
   ]
  },
  {
   "cell_type": "code",
   "execution_count": 34,
   "metadata": {},
   "outputs": [
    {
     "data": {
      "image/png": "[encoded data removed]",
      "text/plain": [
       "<Figure size 432x288 with 64 Axes>"
      ]
     },
     "metadata": {
      "needs_background": "light"
     },
     "output_type": "display_data"
    }
   ],
   "source": [
    "df_new.plot(kind='box', subplots=True, layout=(8,8), sharex=False, sharey=False,\n",
    "fontsize=1)\n",
    "pyplot.show()\n"
   ]
  },
  {
   "cell_type": "code",
   "execution_count": 35,
   "metadata": {},
   "outputs": [
    {
     "data": {
      "image/png": "[encoded data removed]",
      "text/plain": [
       "<Figure size 432x288 with 2 Axes>"
      ]
     },
     "metadata": {
      "needs_background": "light"
     },
     "output_type": "display_data"
    },
    {
     "name": "stdout",
     "output_type": "stream",
     "text": [
      "                   CreditScore    Age     Tenure  Balance  HasCrCard  EstimatedSalary  Exited  Geography_France  Geography_Germany  Geography_Spain  \\\n",
      "CreditScore          1.000e+00 -0.004  8.419e-04    0.006     -0.005           -0.001  -0.027            -0.009          5.538e-03            0.005   \n",
      "Age                 -3.965e-03  1.000 -9.997e-03    0.028     -0.012           -0.007   0.285            -0.039          4.690e-02           -0.002   \n",
      "Tenure               8.419e-04 -0.010  1.000e+00   -0.012      0.023            0.008  -0.014            -0.003         -5.675e-04            0.004   \n",
      "Balance              6.268e-03  0.028 -1.225e-02    1.000     -0.015            0.013   0.119            -0.231          4.011e-01           -0.135   \n",
      "HasCrCard           -5.458e-03 -0.012  2.258e-02   -0.015      1.000           -0.010  -0.007             0.002          1.058e-02           -0.013   \n",
      "EstimatedSalary     -1.384e-03 -0.007  7.784e-03    0.013     -0.010            1.000   0.012            -0.003          1.030e-02           -0.006   \n",
      "Exited              -2.709e-02  0.285 -1.400e-02    0.119     -0.007            0.012   1.000            -0.105          1.735e-01           -0.053   \n",
      "Geography_France    -8.928e-03 -0.039 -2.848e-03   -0.231      0.002           -0.003  -0.105             1.000         -5.804e-01           -0.575   \n",
      "Geography_Germany    5.538e-03  0.047 -5.675e-04    0.401      0.011            0.010   0.173            -0.580          1.000e+00           -0.332   \n",
      "Geography_Spain      4.780e-03 -0.002  3.868e-03   -0.135     -0.013           -0.006  -0.053            -0.575         -3.321e-01            1.000   \n",
      "Gender_Female        2.857e-03  0.028 -1.473e-02   -0.012     -0.006            0.008   0.107            -0.007          2.463e-02           -0.017   \n",
      "Gender_Male         -2.857e-03 -0.028  1.473e-02    0.012      0.006           -0.008  -0.107             0.007         -2.463e-02            0.017   \n",
      "\n",
      "                   Gender_Female  Gender_Male  \n",
      "CreditScore                0.003       -0.003  \n",
      "Age                        0.028       -0.028  \n",
      "Tenure                    -0.015        0.015  \n",
      "Balance                   -0.012        0.012  \n",
      "HasCrCard                 -0.006        0.006  \n",
      "EstimatedSalary            0.008       -0.008  \n",
      "Exited                     0.107       -0.107  \n",
      "Geography_France          -0.007        0.007  \n",
      "Geography_Germany          0.025       -0.025  \n",
      "Geography_Spain           -0.017        0.017  \n",
      "Gender_Female              1.000       -1.000  \n",
      "Gender_Male               -1.000        1.000  \n"
     ]
    }
   ],
   "source": [
    "# correlation matrix\n",
    "fig = pyplot.figure()\n",
    "ax = fig.add_subplot(111)\n",
    "cax = ax.matshow(df_new.corr(), vmin=-1, vmax=1, interpolation='none')\n",
    "fig.colorbar(cax)\n",
    "pyplot.show()\n",
    "set_option('display.width', 150)\n",
    "set_option('precision', 3)\n",
    "correlations = df_new.corr(method='pearson')\n",
    "print(correlations)\n"
   ]
  },
  {
   "cell_type": "code",
   "execution_count": 36,
   "metadata": {},
   "outputs": [
    {
     "name": "stdout",
     "output_type": "stream",
     "text": [
      "Exited\n",
      "0    7963\n",
      "1    2037\n",
      "dtype: int64\n"
     ]
    }
   ],
   "source": [
    "# class distribution\n",
    "print(dataset.groupby('Exited').size())\n"
   ]
  },
  {
   "cell_type": "code",
   "execution_count": 37,
   "metadata": {},
   "outputs": [
    {
     "name": "stdout",
     "output_type": "stream",
     "text": [
      "Oversampled: Counter({0.0: 5457, 1.0: 5457})\n",
      "Combined Random Sampling: Counter({0.0: 5457, 1.0: 5457})\n"
     ]
    }
   ],
   "source": [
    "# instantiating over and under sampler\n",
    "array = df_new.values\n",
    "X = array[:,0:11].astype(float)\n",
    "Y = array[:,11]\n",
    "over = RandomOverSampler()\n",
    "under = RandomUnderSampler()\n",
    "# first performing oversampling to minority class\n",
    "X_over, y_over = over.fit_resample(X, Y)\n",
    "print(f\"Oversampled: {Counter(y_over)}\")\n",
    "Oversampled: Counter({0: 9844, 1: 4922})\n",
    "# now to comine under sampling \n",
    "X_combined_sampling, y_combined_sampling = under.fit_resample(X_over, y_over)\n",
    "print(f\"Combined Random Sampling: {Counter(y_combined_sampling)}\")"
   ]
  },
  {
   "cell_type": "code",
   "execution_count": 50,
   "metadata": {},
   "outputs": [],
   "source": [
    "# Split-out validation dataset\n",
    "array = df_new.values\n",
    "X = X_combined_sampling\n",
    "Y = y_combined_sampling\n",
    "validation_size = 0.20\n",
    "seed = 7\n",
    "X_train, X_validation, Y_train, Y_validation = train_test_split(X, Y,\n",
    "test_size=validation_size, random_state=seed)\n"
   ]
  },
  {
   "cell_type": "code",
   "execution_count": 51,
   "metadata": {},
   "outputs": [],
   "source": [
    "# Test options and evaluation metric\n",
    "num_folds = 10\n",
    "seed = 7\n",
    "scoring = 'accuracy'"
   ]
  },
  {
   "cell_type": "code",
   "execution_count": 52,
   "metadata": {},
   "outputs": [],
   "source": [
    "# Spot-Check Algorithms\n",
    "models = []\n",
    "models.append(('LR', LogisticRegression()))\n",
    "models.append(('LDA', LinearDiscriminantAnalysis()))\n",
    "models.append(('KNN', KNeighborsClassifier()))\n",
    "models.append(('CART', DecisionTreeClassifier()))\n",
    "models.append(('NB', GaussianNB()))\n",
    "models.append(('SVM', SVC()))"
   ]
  },
  {
   "cell_type": "code",
   "execution_count": 55,
   "metadata": {},
   "outputs": [
    {
     "name": "stdout",
     "output_type": "stream",
     "text": [
      "LR: 0.511394 (0.019606)\n",
      "LDA: 0.537399 (0.016422)\n",
      "KNN: 0.511626 (0.011535)\n",
      "CART: 1.000000 (0.000000)\n",
      "NB: 0.916620 (0.012830)\n",
      "SVM: 0.505096 (0.013698)\n"
     ]
    }
   ],
   "source": [
    "results = []\n",
    "names = []\n",
    "for name, model in models:\n",
    "    kfold = KFold(n_splits=num_folds, random_state=seed,shuffle=True)\n",
    "    cv_results = cross_val_score(model, X_train, Y_train, cv=kfold, scoring=scoring)\n",
    "    results.append(cv_results)\n",
    "    names.append(name)\n",
    "    msg = \"%s: %f (%f)\" % (name, cv_results.mean(), cv_results.std())\n",
    "    print(msg)\n"
   ]
  },
  {
   "cell_type": "code",
   "execution_count": 57,
   "metadata": {},
   "outputs": [
    {
     "data": {
      "image/png": "[encoded data removed]",
      "text/plain": [
       "<Figure size 432x288 with 1 Axes>"
      ]
     },
     "metadata": {
      "needs_background": "light"
     },
     "output_type": "display_data"
    }
   ],
   "source": [
    "# Compare Algorithms\n",
    "fig = pyplot.figure()\n",
    "fig.suptitle('Algorithm Comparison')\n",
    "ax = fig.add_subplot(111)\n",
    "pyplot.boxplot(results)\n",
    "ax.set_xticklabels(names)\n",
    "pyplot.show()\n"
   ]
  },
  {
   "cell_type": "code",
   "execution_count": 85,
   "metadata": {},
   "outputs": [
    {
     "data": {
      "image/png": "[encoded data removed]",
      "text/plain": [
       "<Figure size 360x360 with 1 Axes>"
      ]
     },
     "metadata": {
      "needs_background": "light"
     },
     "output_type": "display_data"
    },
    {
     "name": "stdout",
     "output_type": "stream",
     "text": [
      "              precision    recall  f1-score   support\n",
      "\n",
      "         0.0       0.51      0.36      0.43      1834\n",
      "         1.0       0.49      0.64      0.56      1768\n",
      "\n",
      "    accuracy                           0.50      3602\n",
      "   macro avg       0.50      0.50      0.49      3602\n",
      "weighted avg       0.50      0.50      0.49      3602\n",
      "\n"
     ]
    }
   ],
   "source": [
    "#Standardize the dataset\n",
    "pipelines = []\n",
    "pipelines.append(('ScaledSVM', Pipeline([('Scaler', StandardScaler()),('SVM', SVC())])))\n",
    "results = []\n",
    "names = []\n",
    "for name, model in pipelines:\n",
    "    test_size = 0.33\n",
    "    seed = 7\n",
    "    X_train, X_test, Y_train, Y_test = train_test_split(X, Y, test_size=test_size,random_state=seed)\n",
    "    model = LogisticRegression()\n",
    "    model.fit(X_train, Y_train)\n",
    "    predicted = model.predict(X_test)\n",
    "    report = classification_report(Y_test, predicted)\n",
    "    conf_matrix = confusion_matrix(y_true=Y_test, y_pred=predicted)\n",
    "    #\n",
    "    # Print the confusion matrix using Matplotlib\n",
    "    #\n",
    "    fig, ax = plt.subplots(figsize=(5, 5))\n",
    "    ax.matshow(conf_matrix, cmap=plt.cm.Oranges, alpha=0.3)\n",
    "    for i in range(conf_matrix.shape[0]):\n",
    "        for j in range(conf_matrix.shape[1]):\n",
    "            ax.text(x=j, y=i,s=conf_matrix[i, j], va='center', ha='center', size='xx-large')\n",
    "    \n",
    "    plt.xlabel('Predictions', fontsize=18)\n",
    "    plt.ylabel('Actuals', fontsize=18)\n",
    "    plt.title('Confusion Matrix', fontsize=18)\n",
    "    plt.show()\n",
    "    report = classification_report(Y_test, predicted)\n",
    "    print(report)\n"
   ]
  }
 ],
 "metadata": {
  "kernelspec": {
   "display_name": "Python 3.9.7 ('base')",
   "language": "python",
   "name": "python3"
  },
  "language_info": {
   "codemirror_mode": {
    "name": "ipython",
    "version": 3
   },
   "file_extension": ".py",
   "mimetype": "text/x-python",
   "name": "python",
   "nbconvert_exporter": "python",
   "pygments_lexer": "ipython3",
   "version": "3.9.7"
  },
  "orig_nbformat": 4,
  "vscode": {
   "interpreter": {
    "hash": "deaa2826dec828ad1fc59addc33fe0319ae014a8880636b2f53edb455a52c909"
   }
  }
 },
 "nbformat": 4,
 "nbformat_minor": 2
}
